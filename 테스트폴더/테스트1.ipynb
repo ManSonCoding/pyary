{
 "cells": [
  {
   "cell_type": "code",
   "execution_count": 2,
   "metadata": {
    "ExecuteTime": {
     "end_time": "2021-03-18T19:18:35.077711Z",
     "start_time": "2021-03-18T19:18:34.933925Z"
    }
   },
   "outputs": [
    {
     "name": "stdout",
     "output_type": "stream",
     "text": [
      "/Users/junhyeoungson/Downloads/글꼴/data/테스트폴더\r\n"
     ]
    }
   ],
   "source": [
    "!pwd"
   ]
  },
  {
   "cell_type": "code",
   "execution_count": 3,
   "metadata": {
    "ExecuteTime": {
     "end_time": "2021-03-18T19:18:39.840179Z",
     "start_time": "2021-03-18T19:18:39.282972Z"
    }
   },
   "outputs": [],
   "source": [
    "# 모델을 불러온다\n",
    "from keras.models import load_model\n",
    "import os\n",
    "model = load_model(\"./hand_written_korean_classification.hdf5\")"
   ]
  },
  {
   "cell_type": "code",
   "execution_count": 8,
   "metadata": {
    "ExecuteTime": {
     "end_time": "2021-03-18T19:19:00.939090Z",
     "start_time": "2021-03-18T19:19:00.932589Z"
    }
   },
   "outputs": [],
   "source": [
    "import numpy as np\n",
    "import cv2\n",
    "import matplotlib.pyplot as plt\n",
    "import pandas as pd\n"
   ]
  },
  {
   "cell_type": "code",
   "execution_count": 9,
   "metadata": {
    "ExecuteTime": {
     "end_time": "2021-03-18T19:19:01.283716Z",
     "start_time": "2021-03-18T19:19:01.250144Z"
    }
   },
   "outputs": [],
   "source": [
    "# 예측 함수\n",
    "\n",
    "def test_function(model, image, num, labels):\n",
    "    \n",
    "    # model -> 케라스 모델\n",
    "    '''\n",
    "    model = 케라스 모델\n",
    "    image = 사진 경로( 숫자 제외) 예시: './hangul-images/hangul_'\n",
    "    num = 사진 번호 'hangul_2555'에서의 2555 넣으면 됨\n",
    "    labels -> labels.txt 파일\n",
    "    '''\n",
    "    \n",
    "    # 이미지 로드 후 보여주기\n",
    "    test_image = cv2.imread(image + str(num) + '.jpeg')\n",
    "    X_test_image = np.array(test_image)\n",
    "    \n",
    "    #배경색이 검정일 경우 반전\n",
    "    X_test_image = 255 - X_test_image\n",
    "    plt.imshow(X_test_image)\n",
    "    plt.show()\n",
    "    \n",
    "    # 이미지 예측\n",
    "    X_test_image = np.array(X_test_image)\n",
    "    X_test_image = X_test_image.reshape(1,32,32,3) / 255.0\n",
    "    \n",
    "    pred = model.predict(X_test_image)\n",
    "    pred_num = np.argmax(pred)\n",
    "    print('예측한 글자는 \"' + str(labels['글자'].iloc[pred_num]) + '\" 입니다.')\n",
    "    \n",
    "    \n",
    "    "
   ]
  },
  {
   "cell_type": "code",
   "execution_count": 13,
   "metadata": {
    "ExecuteTime": {
     "end_time": "2021-03-18T19:19:27.363338Z",
     "start_time": "2021-03-18T19:19:27.216299Z"
    }
   },
   "outputs": [
    {
     "name": "stdout",
     "output_type": "stream",
     "text": [
      "/Users/junhyeoungson/Downloads/글꼴/data/테스트폴더\r\n"
     ]
    }
   ],
   "source": [
    "!pwd"
   ]
  },
  {
   "cell_type": "code",
   "execution_count": 27,
   "metadata": {
    "ExecuteTime": {
     "end_time": "2021-03-18T19:21:05.127041Z",
     "start_time": "2021-03-18T19:21:05.116740Z"
    }
   },
   "outputs": [],
   "source": [
    "labels = './label.txt'\n",
    "labels = pd.read_csv(labels, encoding = 'utf-8', header = None)\n",
    "labels.set_axis(['글자'],  axis='columns', inplace=True)"
   ]
  },
  {
   "cell_type": "code",
   "execution_count": 28,
   "metadata": {
    "ExecuteTime": {
     "end_time": "2021-03-18T19:21:06.286198Z",
     "start_time": "2021-03-18T19:21:06.272181Z"
    }
   },
   "outputs": [
    {
     "data": {
      "text/html": [
       "<div>\n",
       "<style scoped>\n",
       "    .dataframe tbody tr th:only-of-type {\n",
       "        vertical-align: middle;\n",
       "    }\n",
       "\n",
       "    .dataframe tbody tr th {\n",
       "        vertical-align: top;\n",
       "    }\n",
       "\n",
       "    .dataframe thead th {\n",
       "        text-align: right;\n",
       "    }\n",
       "</style>\n",
       "<table border=\"1\" class=\"dataframe\">\n",
       "  <thead>\n",
       "    <tr style=\"text-align: right;\">\n",
       "      <th></th>\n",
       "      <th>글자</th>\n",
       "    </tr>\n",
       "  </thead>\n",
       "  <tbody>\n",
       "    <tr>\n",
       "      <th>0</th>\n",
       "      <td>가</td>\n",
       "    </tr>\n",
       "    <tr>\n",
       "      <th>1</th>\n",
       "      <td>각</td>\n",
       "    </tr>\n",
       "    <tr>\n",
       "      <th>2</th>\n",
       "      <td>간</td>\n",
       "    </tr>\n",
       "    <tr>\n",
       "      <th>3</th>\n",
       "      <td>갇</td>\n",
       "    </tr>\n",
       "    <tr>\n",
       "      <th>4</th>\n",
       "      <td>갈</td>\n",
       "    </tr>\n",
       "    <tr>\n",
       "      <th>...</th>\n",
       "      <td>...</td>\n",
       "    </tr>\n",
       "    <tr>\n",
       "      <th>975</th>\n",
       "      <td>흩</td>\n",
       "    </tr>\n",
       "    <tr>\n",
       "      <th>976</th>\n",
       "      <td>희</td>\n",
       "    </tr>\n",
       "    <tr>\n",
       "      <th>977</th>\n",
       "      <td>흰</td>\n",
       "    </tr>\n",
       "    <tr>\n",
       "      <th>978</th>\n",
       "      <td>히</td>\n",
       "    </tr>\n",
       "    <tr>\n",
       "      <th>979</th>\n",
       "      <td>힘</td>\n",
       "    </tr>\n",
       "  </tbody>\n",
       "</table>\n",
       "<p>980 rows × 1 columns</p>\n",
       "</div>"
      ],
      "text/plain": [
       "    글자\n",
       "0    가\n",
       "1    각\n",
       "2    간\n",
       "3    갇\n",
       "4    갈\n",
       "..  ..\n",
       "975  흩\n",
       "976  희\n",
       "977  흰\n",
       "978  히\n",
       "979  힘\n",
       "\n",
       "[980 rows x 1 columns]"
      ]
     },
     "execution_count": 28,
     "metadata": {},
     "output_type": "execute_result"
    }
   ],
   "source": [
    "labels"
   ]
  },
  {
   "cell_type": "code",
   "execution_count": 29,
   "metadata": {
    "ExecuteTime": {
     "end_time": "2021-03-18T19:21:07.136910Z",
     "start_time": "2021-03-18T19:21:06.997040Z"
    }
   },
   "outputs": [
    {
     "name": "stdout",
     "output_type": "stream",
     "text": [
      "/Users/junhyeoungson/Downloads/글꼴/data/테스트폴더\r\n"
     ]
    }
   ],
   "source": [
    "!pwd"
   ]
  },
  {
   "cell_type": "code",
   "execution_count": 35,
   "metadata": {
    "ExecuteTime": {
     "end_time": "2021-03-18T19:21:33.742681Z",
     "start_time": "2021-03-18T19:21:33.495378Z"
    },
    "scrolled": true
   },
   "outputs": [
    {
     "data": {
      "image/png": "[encoded data removed]",
      "text/plain": [
       "<Figure size 432x288 with 1 Axes>"
      ]
     },
     "metadata": {
      "needs_background": "light"
     },
     "output_type": "display_data"
    },
    {
     "name": "stdout",
     "output_type": "stream",
     "text": [
      "예측한 글자는 \"니\" 입니다.\n"
     ]
    }
   ],
   "source": [
    "image = '../data1/hangul-images/hangul_'\n",
    "test_function(model,image,18579,labels )\n",
    "\n"
   ]
  },
  {
   "cell_type": "code",
   "execution_count": null,
   "metadata": {},
   "outputs": [],
   "source": []
  }
 ],
 "metadata": {
  "kernelspec": {
   "display_name": "Python 3",
   "language": "python",
   "name": "python3"
  },
  "language_info": {
   "codemirror_mode": {
    "name": "ipython",
    "version": 3
   },
   "file_extension": ".py",
   "mimetype": "text/x-python",
   "name": "python",
   "nbconvert_exporter": "python",
   "pygments_lexer": "ipython3",
   "version": "3.7.4"
  },
  "toc": {
   "base_numbering": 1,
   "nav_menu": {},
   "number_sections": true,
   "sideBar": true,
   "skip_h1_title": false,
   "title_cell": "Table of Contents",
   "title_sidebar": "Contents",
   "toc_cell": false,
   "toc_position": {},
   "toc_section_display": true,
   "toc_window_display": false
  },
  "varInspector": {
   "cols": {
    "lenName": 16,
    "lenType": 16,
    "lenVar": 40
   },
   "kernels_config": {
    "python": {
     "delete_cmd_postfix": "",
     "delete_cmd_prefix": "del ",
     "library": "var_list.py",
     "varRefreshCmd": "print(var_dic_list())"
    },
    "r": {
     "delete_cmd_postfix": ") ",
     "delete_cmd_prefix": "rm(",
     "library": "var_list.r",
     "varRefreshCmd": "cat(var_dic_list()) "
    }
   },
   "types_to_exclude": [
    "module",
    "function",
    "builtin_function_or_method",
    "instance",
    "_Feature"
   ],
   "window_display": false
  }
 },
 "nbformat": 4,
 "nbformat_minor": 4
}
